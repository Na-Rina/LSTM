{
  "cells": [
    {
      "cell_type": "code",
      "execution_count": null,
      "metadata": {
        "id": "0h6LoPDDwVdH"
      },
      "outputs": [],
      "source": [
        "import numpy as np\n",
        "import pandas as pd"
      ]
    },
    {
      "cell_type": "code",
      "execution_count": null,
      "metadata": {
        "id": "hBjeYZVZwVdJ"
      },
      "outputs": [],
      "source": [
        "train = pd.read_csv(r\"C:\\Users\\USER\\OneDrive - 한국외국어대학교\\바탕 화면\\open\\train.csv\")\n",
        "test = pd.read_csv(r\"C:\\Users\\USER\\OneDrive - 한국외국어대학교\\바탕 화면\\open\\test.csv\")\n",
        "submission = pd.read_csv(r\"C:\\Users\\USER\\OneDrive - 한국외국어대학교\\바탕 화면\\open\\sample_submission.csv\")\n",
        "international = pd.read_csv(r\"C:\\Users\\USER\\OneDrive - 한국외국어대학교\\바탕 화면\\open\\international_trade.csv\")"
      ]
    },
    {
      "cell_type": "code",
      "execution_count": null,
      "metadata": {
        "id": "PplI1BG7wVdK",
        "outputId": "2fefdfa3-027f-4d5f-be21-1cceb96bb3c0"
      },
      "outputs": [
        {
          "data": {
            "text/html": [
              "<div>\n",
              "<style scoped>\n",
              "    .dataframe tbody tr th:only-of-type {\n",
              "        vertical-align: middle;\n",
              "    }\n",
              "\n",
              "    .dataframe tbody tr th {\n",
              "        vertical-align: top;\n",
              "    }\n",
              "\n",
              "    .dataframe thead th {\n",
              "        text-align: right;\n",
              "    }\n",
              "</style>\n",
              "<table border=\"1\" class=\"dataframe\">\n",
              "  <thead>\n",
              "    <tr style=\"text-align: right;\">\n",
              "      <th></th>\n",
              "      <th>ID</th>\n",
              "      <th>timestamp</th>\n",
              "      <th>item</th>\n",
              "      <th>corporation</th>\n",
              "      <th>location</th>\n",
              "    </tr>\n",
              "  </thead>\n",
              "  <tbody>\n",
              "    <tr>\n",
              "      <th>0</th>\n",
              "      <td>TG_A_J_20230304</td>\n",
              "      <td>2023-03-04</td>\n",
              "      <td>TG</td>\n",
              "      <td>A</td>\n",
              "      <td>J</td>\n",
              "    </tr>\n",
              "    <tr>\n",
              "      <th>1</th>\n",
              "      <td>TG_A_J_20230305</td>\n",
              "      <td>2023-03-05</td>\n",
              "      <td>TG</td>\n",
              "      <td>A</td>\n",
              "      <td>J</td>\n",
              "    </tr>\n",
              "    <tr>\n",
              "      <th>2</th>\n",
              "      <td>TG_A_J_20230306</td>\n",
              "      <td>2023-03-06</td>\n",
              "      <td>TG</td>\n",
              "      <td>A</td>\n",
              "      <td>J</td>\n",
              "    </tr>\n",
              "    <tr>\n",
              "      <th>3</th>\n",
              "      <td>TG_A_J_20230307</td>\n",
              "      <td>2023-03-07</td>\n",
              "      <td>TG</td>\n",
              "      <td>A</td>\n",
              "      <td>J</td>\n",
              "    </tr>\n",
              "    <tr>\n",
              "      <th>4</th>\n",
              "      <td>TG_A_J_20230308</td>\n",
              "      <td>2023-03-08</td>\n",
              "      <td>TG</td>\n",
              "      <td>A</td>\n",
              "      <td>J</td>\n",
              "    </tr>\n",
              "    <tr>\n",
              "      <th>...</th>\n",
              "      <td>...</td>\n",
              "      <td>...</td>\n",
              "      <td>...</td>\n",
              "      <td>...</td>\n",
              "      <td>...</td>\n",
              "    </tr>\n",
              "    <tr>\n",
              "      <th>1087</th>\n",
              "      <td>RD_F_J_20230327</td>\n",
              "      <td>2023-03-27</td>\n",
              "      <td>RD</td>\n",
              "      <td>F</td>\n",
              "      <td>J</td>\n",
              "    </tr>\n",
              "    <tr>\n",
              "      <th>1088</th>\n",
              "      <td>RD_F_J_20230328</td>\n",
              "      <td>2023-03-28</td>\n",
              "      <td>RD</td>\n",
              "      <td>F</td>\n",
              "      <td>J</td>\n",
              "    </tr>\n",
              "    <tr>\n",
              "      <th>1089</th>\n",
              "      <td>RD_F_J_20230329</td>\n",
              "      <td>2023-03-29</td>\n",
              "      <td>RD</td>\n",
              "      <td>F</td>\n",
              "      <td>J</td>\n",
              "    </tr>\n",
              "    <tr>\n",
              "      <th>1090</th>\n",
              "      <td>RD_F_J_20230330</td>\n",
              "      <td>2023-03-30</td>\n",
              "      <td>RD</td>\n",
              "      <td>F</td>\n",
              "      <td>J</td>\n",
              "    </tr>\n",
              "    <tr>\n",
              "      <th>1091</th>\n",
              "      <td>RD_F_J_20230331</td>\n",
              "      <td>2023-03-31</td>\n",
              "      <td>RD</td>\n",
              "      <td>F</td>\n",
              "      <td>J</td>\n",
              "    </tr>\n",
              "  </tbody>\n",
              "</table>\n",
              "<p>1092 rows × 5 columns</p>\n",
              "</div>"
            ],
            "text/plain": [
              "                   ID   timestamp item corporation location\n",
              "0     TG_A_J_20230304  2023-03-04   TG           A        J\n",
              "1     TG_A_J_20230305  2023-03-05   TG           A        J\n",
              "2     TG_A_J_20230306  2023-03-06   TG           A        J\n",
              "3     TG_A_J_20230307  2023-03-07   TG           A        J\n",
              "4     TG_A_J_20230308  2023-03-08   TG           A        J\n",
              "...               ...         ...  ...         ...      ...\n",
              "1087  RD_F_J_20230327  2023-03-27   RD           F        J\n",
              "1088  RD_F_J_20230328  2023-03-28   RD           F        J\n",
              "1089  RD_F_J_20230329  2023-03-29   RD           F        J\n",
              "1090  RD_F_J_20230330  2023-03-30   RD           F        J\n",
              "1091  RD_F_J_20230331  2023-03-31   RD           F        J\n",
              "\n",
              "[1092 rows x 5 columns]"
            ]
          },
          "execution_count": 52,
          "metadata": {},
          "output_type": "execute_result"
        }
      ],
      "source": [
        "test"
      ]
    },
    {
      "cell_type": "code",
      "execution_count": null,
      "metadata": {
        "id": "i-la6NyYwVdM"
      },
      "outputs": [],
      "source": [
        "import pandas as pd\n",
        "import numpy as np\n",
        "import torch\n",
        "import torch.nn as nn\n",
        "from torch.utils.data import Dataset, DataLoader\n",
        "from sklearn.preprocessing import MinMaxScaler\n",
        "from sklearn.model_selection import train_test_split"
      ]
    },
    {
      "cell_type": "code",
      "execution_count": null,
      "metadata": {
        "id": "fBaOSm4FwVdM"
      },
      "outputs": [],
      "source": [
        "# 주말 칼럼\n",
        "train['timestamp'] = pd.to_datetime(train['timestamp'])\n",
        "train['is_weekend'] = (train['timestamp'].dt.dayofweek >= 5).astype(int)\n"
      ]
    },
    {
      "cell_type": "code",
      "execution_count": null,
      "metadata": {
        "id": "XTU313-xwVdM"
      },
      "outputs": [],
      "source": [
        "# 원핫인코딩\n",
        "train_encoded = pd.get_dummies(train, columns=['item', 'corporation', 'location', '요일'])"
      ]
    },
    {
      "cell_type": "code",
      "execution_count": null,
      "metadata": {
        "id": "uFINteiAwVdN"
      },
      "outputs": [],
      "source": [
        "# 불필요한 열 그냥 제거함\n",
        "train_encoded.drop(['ID', 'timestamp', '공휴일'], axis=1, inplace=True)"
      ]
    },
    {
      "cell_type": "code",
      "execution_count": null,
      "metadata": {
        "id": "63V2t8w8wVdN"
      },
      "outputs": [],
      "source": [
        "# 데이터 정규화\n",
        "scaler = MinMaxScaler(feature_range=(0, 1))\n",
        "train_data = scaler.fit_transform(train['price(원/kg)'].values.reshape(-1, 1))"
      ]
    },
    {
      "cell_type": "code",
      "execution_count": null,
      "metadata": {
        "id": "6PNjXrHMwVdN"
      },
      "outputs": [],
      "source": [
        "# 데이터셋 클래스 정의\n",
        "class CustomDataset(Dataset):\n",
        "    def __init__(self, features, targets):\n",
        "        self.features = features\n",
        "        self.targets = targets\n",
        "\n",
        "    def __len__(self):\n",
        "        return len(self.features)\n",
        "\n",
        "    def __getitem__(self, idx):\n",
        "        return self.features[idx], self.targets[idx]"
      ]
    },
    {
      "cell_type": "code",
      "execution_count": null,
      "metadata": {
        "id": "W83MrKwEwVdN"
      },
      "outputs": [],
      "source": [
        "# 데이터셋 및 데이터로더 생성\n",
        "X = []\n",
        "y = []\n",
        "time_steps = 7  # 일주일 단위\n",
        "for i in range(len(train_data) - time_steps - 1):\n",
        "    X.append(train_data[i:(i+time_steps), 0])\n",
        "    y.append(train_data[i+time_steps, 0])\n",
        "\n",
        "X = np.array(X)\n",
        "y = np.array(y)\n",
        "\n",
        "X_train, X_val, y_train, y_val = train_test_split(X, y, test_size=0.2, random_state=42)\n",
        "\n",
        "train_dataset = CustomDataset(X_train, y_train)\n",
        "val_dataset = CustomDataset(X_val, y_val)\n",
        "\n",
        "batch_size = 32\n",
        "train_dataloader = DataLoader(train_dataset, batch_size=batch_size, shuffle=True)\n",
        "val_dataloader = DataLoader(val_dataset, batch_size=batch_size, shuffle=False)"
      ]
    },
    {
      "cell_type": "code",
      "execution_count": null,
      "metadata": {
        "id": "u8PU3-vBwVdO"
      },
      "outputs": [],
      "source": [
        "# LSTM 모델 정의\n",
        "class LSTMModel(nn.Module):\n",
        "    def __init__(self, input_size, hidden_size, num_layers):\n",
        "        super(LSTMModel, self).__init__()\n",
        "        self.lstm = nn.LSTM(input_size, hidden_size, num_layers, batch_first=True)\n",
        "        self.fc = nn.Linear(hidden_size, 1)\n",
        "\n",
        "    def forward(self, x):\n",
        "        out, _ = self.lstm(x)\n",
        "        out = self.fc(out[:, -1, :])\n",
        "        return out\n",
        "\n",
        "input_size = 1\n",
        "hidden_size = 50\n",
        "num_layers = 2\n",
        "model = LSTMModel(input_size, hidden_size, num_layers)"
      ]
    },
    {
      "cell_type": "code",
      "execution_count": null,
      "metadata": {
        "id": "N2L7xbVmwVdO"
      },
      "outputs": [],
      "source": [
        "# 손실 함수 및 옵티마이저 정의\n",
        "criterion = nn.MSELoss()\n",
        "optimizer = torch.optim.Adam(model.parameters(), lr=0.001)"
      ]
    },
    {
      "cell_type": "code",
      "execution_count": null,
      "metadata": {
        "id": "F7DI1vtPwVdP",
        "outputId": "3d551bc7-98d1-4931-c4c6-e8a1810782a4"
      },
      "outputs": [
        {
          "name": "stdout",
          "output_type": "stream",
          "text": [
            "Epoch [1/100], Train Loss: 0.05314486101269722, Val Loss: 0.024165269547118305\n",
            "Epoch [2/100], Train Loss: 0.01786140352487564, Val Loss: 0.024235999196647637\n",
            "Epoch [3/100], Train Loss: 0.00448449794203043, Val Loss: 0.024489063314557757\n",
            "Epoch [4/100], Train Loss: 0.020339002832770348, Val Loss: 0.024022509483495345\n",
            "Epoch [5/100], Train Loss: 0.011346879415214062, Val Loss: 0.023329151283119683\n",
            "Epoch [6/100], Train Loss: 0.005214008968323469, Val Loss: 0.024384764249696926\n",
            "Epoch [7/100], Train Loss: 0.005935763008892536, Val Loss: 0.02382442667850003\n",
            "Epoch [8/100], Train Loss: 0.012686729431152344, Val Loss: 0.024297459622136548\n",
            "Epoch [9/100], Train Loss: 0.02668270654976368, Val Loss: 0.02394329356821379\n",
            "Epoch [10/100], Train Loss: 0.005684077274054289, Val Loss: 0.02465153732261951\n",
            "Epoch [11/100], Train Loss: 0.004978775978088379, Val Loss: 0.02490615831489014\n",
            "Epoch [12/100], Train Loss: 0.001604898483492434, Val Loss: 0.02393256705154174\n",
            "Epoch [13/100], Train Loss: 0.016984838992357254, Val Loss: 0.024657925202978163\n",
            "Epoch [14/100], Train Loss: 0.025975637137889862, Val Loss: 0.024886697004999844\n",
            "Epoch [15/100], Train Loss: 0.010502198711037636, Val Loss: 0.024267010732024398\n",
            "Epoch [16/100], Train Loss: 0.014744740910828114, Val Loss: 0.024656866092212317\n",
            "Epoch [17/100], Train Loss: 0.005198278930038214, Val Loss: 0.024752461536873823\n",
            "Epoch [18/100], Train Loss: 0.011023439466953278, Val Loss: 0.024715314455573217\n",
            "Epoch [19/100], Train Loss: 0.02289740927517414, Val Loss: 0.025121285956570757\n",
            "Epoch [20/100], Train Loss: 0.007515787612646818, Val Loss: 0.02464860762167166\n",
            "Epoch [21/100], Train Loss: 0.0035217651166021824, Val Loss: 0.024580251604195944\n",
            "Epoch [22/100], Train Loss: 0.030189149081707, Val Loss: 0.02471067720785692\n",
            "Epoch [23/100], Train Loss: 0.0011127755278721452, Val Loss: 0.025006429691891617\n",
            "Epoch [24/100], Train Loss: 0.0010620633838698268, Val Loss: 0.02485182931301214\n",
            "Epoch [25/100], Train Loss: 0.0074625262059271336, Val Loss: 0.02518024892572524\n",
            "Epoch [26/100], Train Loss: 0.00730097433552146, Val Loss: 0.025196914716313284\n",
            "Epoch [27/100], Train Loss: 0.0011412713211029768, Val Loss: 0.02497455727193825\n",
            "Epoch [28/100], Train Loss: 0.010043620131909847, Val Loss: 0.02476849924348625\n",
            "Epoch [29/100], Train Loss: 0.008284307084977627, Val Loss: 0.024746337821970003\n",
            "Epoch [30/100], Train Loss: 0.004000878427177668, Val Loss: 0.024928251904609452\n",
            "Epoch [31/100], Train Loss: 0.014415818266570568, Val Loss: 0.025031530056386607\n",
            "Epoch [32/100], Train Loss: 0.017254473641514778, Val Loss: 0.024438602108162857\n",
            "Epoch [33/100], Train Loss: 0.005630141589790583, Val Loss: 0.025282766056304636\n",
            "Epoch [34/100], Train Loss: 0.0008702637860551476, Val Loss: 0.025140104253159243\n",
            "Epoch [35/100], Train Loss: 0.03297383710741997, Val Loss: 0.02537656588522437\n",
            "Epoch [36/100], Train Loss: 0.0019915858283638954, Val Loss: 0.024815675512429386\n",
            "Epoch [37/100], Train Loss: 0.0021309710573405027, Val Loss: 0.025086198991004338\n",
            "Epoch [38/100], Train Loss: 0.014081912115216255, Val Loss: 0.024903983535853425\n",
            "Epoch [39/100], Train Loss: 0.038843657821416855, Val Loss: 0.02539123445376879\n",
            "Epoch [40/100], Train Loss: 0.001972018275409937, Val Loss: 0.02488353871192748\n",
            "Epoch [41/100], Train Loss: 0.008463230915367603, Val Loss: 0.02509349795331883\n",
            "Epoch [42/100], Train Loss: 0.005486218258738518, Val Loss: 0.024958928612934587\n",
            "Epoch [43/100], Train Loss: 0.0018260792130604386, Val Loss: 0.025179837736324907\n",
            "Epoch [44/100], Train Loss: 0.02114344760775566, Val Loss: 0.024943762954564824\n",
            "Epoch [45/100], Train Loss: 0.0015576145378872752, Val Loss: 0.024821587360835815\n",
            "Epoch [46/100], Train Loss: 0.0020051102619618177, Val Loss: 0.025451773017775067\n",
            "Epoch [47/100], Train Loss: 0.0054384260438382626, Val Loss: 0.02515641148080073\n",
            "Epoch [48/100], Train Loss: 0.0012579929316416383, Val Loss: 0.0257751793076124\n",
            "Epoch [49/100], Train Loss: 0.019718492403626442, Val Loss: 0.026086898319991506\n",
            "Epoch [50/100], Train Loss: 0.005393404513597488, Val Loss: 0.02530959684192704\n",
            "Epoch [51/100], Train Loss: 0.0018047111807391047, Val Loss: 0.02580485855678587\n",
            "Epoch [52/100], Train Loss: 0.0025354961398988962, Val Loss: 0.025424066143015258\n",
            "Epoch [53/100], Train Loss: 0.0017878991784527898, Val Loss: 0.02538549925685079\n",
            "Epoch [54/100], Train Loss: 0.005174436140805483, Val Loss: 0.024746278915504214\n",
            "Epoch [55/100], Train Loss: 0.010098709724843502, Val Loss: 0.025805491467303175\n",
            "Epoch [56/100], Train Loss: 0.003312955377623439, Val Loss: 0.025449035622577575\n",
            "Epoch [57/100], Train Loss: 0.04279198870062828, Val Loss: 0.025887144140846606\n",
            "Epoch [58/100], Train Loss: 0.03867323324084282, Val Loss: 0.025643925725010484\n",
            "Epoch [59/100], Train Loss: 0.0034848139621317387, Val Loss: 0.025301330521645186\n",
            "Epoch [60/100], Train Loss: 0.0011977588292211294, Val Loss: 0.02543648148596447\n",
            "Epoch [61/100], Train Loss: 0.01074235513806343, Val Loss: 0.025330152979242036\n",
            "Epoch [62/100], Train Loss: 0.0008498035022057593, Val Loss: 0.025521199856709528\n",
            "Epoch [63/100], Train Loss: 0.005847549997270107, Val Loss: 0.02540804382012431\n",
            "Epoch [64/100], Train Loss: 0.0017198525601997972, Val Loss: 0.025106163768605354\n",
            "Epoch [65/100], Train Loss: 0.0014363639056682587, Val Loss: 0.025749710023588432\n",
            "Epoch [66/100], Train Loss: 0.0031047656666487455, Val Loss: 0.02506291858557116\n",
            "Epoch [67/100], Train Loss: 0.001615836750715971, Val Loss: 0.025287866913018778\n",
            "Epoch [68/100], Train Loss: 0.006794092245399952, Val Loss: 0.025606132001504654\n",
            "Epoch [69/100], Train Loss: 0.0022335927933454514, Val Loss: 0.02544998781635396\n",
            "Epoch [70/100], Train Loss: 0.019284212961792946, Val Loss: 0.025728004234586342\n",
            "Epoch [71/100], Train Loss: 0.0012492373352870345, Val Loss: 0.0252804870595805\n",
            "Epoch [72/100], Train Loss: 0.004324614070355892, Val Loss: 0.025688232775068445\n",
            "Epoch [73/100], Train Loss: 0.0028703450225293636, Val Loss: 0.02618972347221232\n",
            "Epoch [74/100], Train Loss: 0.012031774036586285, Val Loss: 0.025593531893513675\n",
            "Epoch [75/100], Train Loss: 0.04160509258508682, Val Loss: 0.02595571470299801\n",
            "Epoch [76/100], Train Loss: 0.006288149394094944, Val Loss: 0.02589149163958932\n",
            "Epoch [77/100], Train Loss: 0.010055573657155037, Val Loss: 0.025491615219551178\n",
            "Epoch [78/100], Train Loss: 0.001424741349183023, Val Loss: 0.025767536090952295\n",
            "Epoch [79/100], Train Loss: 0.003837633179500699, Val Loss: 0.025741753113951774\n",
            "Epoch [80/100], Train Loss: 0.003210799302905798, Val Loss: 0.02510124047772498\n",
            "Epoch [81/100], Train Loss: 0.025164645165205002, Val Loss: 0.025413126212726872\n",
            "Epoch [82/100], Train Loss: 0.0066132196225225925, Val Loss: 0.025701267217437398\n",
            "Epoch [83/100], Train Loss: 0.0016043070936575532, Val Loss: 0.026042364122595148\n",
            "Epoch [84/100], Train Loss: 0.02182679809629917, Val Loss: 0.02581159039090703\n",
            "Epoch [85/100], Train Loss: 0.002492459025233984, Val Loss: 0.025300483258600067\n",
            "Epoch [86/100], Train Loss: 0.0035430120769888163, Val Loss: 0.02579147963615958\n",
            "Epoch [87/100], Train Loss: 0.009028020314872265, Val Loss: 0.02519518319612509\n",
            "Epoch [88/100], Train Loss: 0.007811812683939934, Val Loss: 0.025134352318878707\n",
            "Epoch [89/100], Train Loss: 0.0025735851377248764, Val Loss: 0.025529895519201835\n",
            "Epoch [90/100], Train Loss: 0.0025370889343321323, Val Loss: 0.025945818142449704\n",
            "Epoch [91/100], Train Loss: 0.0018239791970700026, Val Loss: 0.025986505934583043\n",
            "Epoch [92/100], Train Loss: 0.005086039658635855, Val Loss: 0.025778760945628476\n",
            "Epoch [93/100], Train Loss: 0.006215898785740137, Val Loss: 0.026230249245355646\n",
            "Epoch [94/100], Train Loss: 0.002042938955128193, Val Loss: 0.02548747148235849\n",
            "Epoch [95/100], Train Loss: 0.0013563267420977354, Val Loss: 0.02599760583071138\n",
            "Epoch [96/100], Train Loss: 0.0021501537412405014, Val Loss: 0.02511001918752808\n",
            "Epoch [97/100], Train Loss: 0.006694058887660503, Val Loss: 0.02548738910287108\n",
            "Epoch [98/100], Train Loss: 0.005213663447648287, Val Loss: 0.02550971430681911\n",
            "Epoch [99/100], Train Loss: 0.0034891855902969837, Val Loss: 0.025646532225574028\n",
            "Epoch [100/100], Train Loss: 0.0010382399195805192, Val Loss: 0.025519043250824325\n"
          ]
        }
      ],
      "source": [
        "# 모델 학습\n",
        "num_epochs = 100\n",
        "for epoch in range(num_epochs):\n",
        "    model.train()\n",
        "    for inputs, targets in train_dataloader:\n",
        "        optimizer.zero_grad()\n",
        "        outputs = model(inputs.unsqueeze(-1).float())\n",
        "        loss = criterion(outputs.squeeze(), targets.float())  # 타겟값과 비교\n",
        "        loss.backward()\n",
        "        optimizer.step()\n",
        "    model.eval()\n",
        "\n",
        "    with torch.no_grad():\n",
        "        val_losses = []\n",
        "        for inputs, targets in val_dataloader:\n",
        "            outputs = model(inputs.unsqueeze(-1).float())\n",
        "            val_loss = criterion(outputs.squeeze(), targets.float())\n",
        "            val_losses.append(val_loss.item())\n",
        "        avg_val_loss = np.mean(val_losses)\n",
        "\n",
        "    print(f\"Epoch [{epoch+1}/{num_epochs}], Train Loss: {loss.item()}, Val Loss: {avg_val_loss}\")"
      ]
    },
    {
      "cell_type": "code",
      "execution_count": null,
      "metadata": {
        "id": "hKsfD2p5wVdP"
      },
      "outputs": [],
      "source": [
        "with torch.no_grad():\n",
        "    model.eval()\n",
        "    inputs = torch.tensor(X).unsqueeze(-1).float()\n",
        "    outputs = model(inputs)\n",
        "    predicted_prices = scaler.inverse_transform(outputs.squeeze().numpy().reshape(-1, 1))"
      ]
    },
    {
      "cell_type": "code",
      "execution_count": null,
      "metadata": {
        "id": "lD2sRWG2wVdQ",
        "outputId": "3521a073-0f75-45cf-bcd1-66ba88f88032"
      },
      "outputs": [
        {
          "name": "stdout",
          "output_type": "stream",
          "text": [
            "Predicted Prices: [[1600.1278 ]\n",
            " [1382.4093 ]\n",
            " [1585.8717 ]\n",
            " ...\n",
            " [ 421.0619 ]\n",
            " [ 446.81165]\n",
            " [ 488.66345]]\n"
          ]
        }
      ],
      "source": [
        "print(\"Predicted Prices:\", predicted_prices)"
      ]
    },
    {
      "cell_type": "code",
      "execution_count": null,
      "metadata": {
        "id": "3Q2QNo1bwVdQ",
        "outputId": "12abcde4-cae4-4efb-afeb-d3256a5f4fd2"
      },
      "outputs": [
        {
          "name": "stdout",
          "output_type": "stream",
          "text": [
            "MSE: 823017.6136552757\n",
            "MAE: 447.0909830114945\n"
          ]
        }
      ],
      "source": [
        "from sklearn.metrics import mean_squared_error, mean_absolute_error\n",
        "\n",
        "# MSE 및 MAE 계산\n",
        "mse = mean_squared_error(y, predicted_prices)\n",
        "mae = mean_absolute_error(y, predicted_prices)\n",
        "\n",
        "# 결과 출력\n",
        "print(\"MSE:\", mse)\n",
        "print(\"MAE:\", mae)"
      ]
    }
  ],
  "metadata": {
    "kernelspec": {
      "display_name": "Python 3",
      "language": "python",
      "name": "python3"
    },
    "language_info": {
      "codemirror_mode": {
        "name": "ipython",
        "version": 3
      },
      "file_extension": ".py",
      "mimetype": "text/x-python",
      "name": "python",
      "nbconvert_exporter": "python",
      "pygments_lexer": "ipython3",
      "version": "3.10.11"
    },
    "colab": {
      "provenance": []
    }
  },
  "nbformat": 4,
  "nbformat_minor": 0
}