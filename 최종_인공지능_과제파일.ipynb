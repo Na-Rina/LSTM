{
  "cells": [
    {
      "cell_type": "markdown",
      "metadata": {
        "id": "1376cbe2"
      },
      "source": [
        "# 농산물 가격 예측 모델 개선"
      ],
      "id": "1376cbe2"
    },
    {
      "cell_type": "markdown",
      "metadata": {
        "id": "ae2525ed"
      },
      "source": [
        "\n",
        "## 목차\n",
        "1. 데이터 설명\n",
        "2. 데이터 로드 및 탐색적 데이터 분석 (EDA)\n",
        "3. 기존 모델 학습 및 평가 (LSTM)\n",
        "4. 개선된 모델 구현 및 평가 (LSTM)\n",
        "5. 성능 비교 및 결론"
      ],
      "id": "ae2525ed"
    },
    {
      "cell_type": "markdown",
      "metadata": {
        "id": "c94ffba8"
      },
      "source": [
        "\n",
        "## 1. 데이터 설명\n",
        "\n",
        "<br/>\n",
        "\n",
        "이 프로젝트에서는 농산물의 가격을 예측하기 위해 다양한 데이터셋을 사용함. 사용된 데이터셋은 다음과 같음:\n",
        "- `train.csv`: 학습 데이터\n",
        "- `test.csv`: 테스트 데이터\n",
        "- `sample_submission.csv`: 제출 파일 형식\n",
        "- `international_trade.csv`: 국제 무역 데이터\n",
        "\n",
        "#### 데이터셋 컬럼 설명\n",
        "1. **train.csv**:\n",
        "    - `ID`: 데이터 식별자\n",
        "    - `timestamp`: 날짜\n",
        "    - `item`: 품목\n",
        "    - `corporation`: 법인명\n",
        "    - `location`: 위치\n",
        "    - `supply(kg)`: 공급량 (kg)\n",
        "    - `price(원/kg)`: 가격 (원/kg)\n",
        "2. **test.csv**:\n",
        "    - `ID`: 데이터 식별자\n",
        "    - `timestamp`: 날짜\n",
        "    - `item`: 품목\n",
        "    - `corporation`: 법인명\n",
        "    - `location`: 위치\n",
        "    - `supply(kg)`: 공급량 (kg)\n",
        "3. **international_trade.csv**:\n",
        "    - 다양한 국가의 무역 관련 데이터\n",
        "4. **sample_submission.csv**:\n",
        "    - 제출 형식 샘플 파일\n"
      ],
      "id": "c94ffba8"
    },
    {
      "cell_type": "markdown",
      "metadata": {
        "id": "183ff38a"
      },
      "source": [
        "## 2. 데이터 로드 및 탐색적 데이터 분석 (EDA)"
      ],
      "id": "183ff38a"
    },
    {
      "cell_type": "markdown",
      "metadata": {
        "id": "c75ef95b"
      },
      "source": [
        "\n",
        "각 데이터셋의 첫 5행을 확인하여 데이터의 구조와 내용을 파악함.\n"
      ],
      "id": "c75ef95b"
    },
    {
      "cell_type": "markdown",
      "id": "cf534dba",
      "metadata": {
        "id": "cf534dba"
      },
      "source": [
        "### 데이터 로드 및 확인"
      ]
    },
    {
      "cell_type": "code",
      "execution_count": 2,
      "id": "b5f7b38c",
      "metadata": {
        "colab": {
          "base_uri": "https://localhost:8080/"
        },
        "id": "b5f7b38c",
        "outputId": "766f7ad2-aa6f-4fb5-c20e-f81f7f751062"
      },
      "outputs": [
        {
          "output_type": "stream",
          "name": "stdout",
          "text": [
            "Train 데이터셋의 처음 5행:\n",
            "                ID   timestamp item corporation location  supply(kg)  \\\n",
            "0  TG_A_J_20190101  2019-01-01   TG           A        J         0.0   \n",
            "1  TG_A_J_20190102  2019-01-02   TG           A        J         0.0   \n",
            "2  TG_A_J_20190103  2019-01-03   TG           A        J     60601.0   \n",
            "3  TG_A_J_20190104  2019-01-04   TG           A        J     25000.0   \n",
            "4  TG_A_J_20190105  2019-01-05   TG           A        J     32352.0   \n",
            "\n",
            "   price(원/kg)  \n",
            "0          0.0  \n",
            "1          0.0  \n",
            "2       1728.0  \n",
            "3       1408.0  \n",
            "4       1250.0  \n",
            "\n",
            "Test 데이터셋의 처음 5행:\n",
            "                ID   timestamp item corporation location\n",
            "0  TG_A_J_20230304  2023-03-04   TG           A        J\n",
            "1  TG_A_J_20230305  2023-03-05   TG           A        J\n",
            "2  TG_A_J_20230306  2023-03-06   TG           A        J\n",
            "3  TG_A_J_20230307  2023-03-07   TG           A        J\n",
            "4  TG_A_J_20230308  2023-03-08   TG           A        J\n",
            "\n",
            "International 데이터셋의 처음 5행:\n",
            "        기간                        품목명   수출 중량  수출 금액    수입 중량  수입 금액  무역수지\n",
            "0  2019-01  토마토(신선한 것이나 냉장한 것으로 한정한다)  356571    990        0      0   990\n",
            "1  2019-01                         양파  821330    222  4003206   1118  -896\n",
            "2  2019-01                         쪽파      60      1    93405    128  -127\n",
            "3  2019-01       꽃양배추와 브로콜리(broccoli)     160      1   638913    563  -562\n",
            "4  2019-01                  방울다다기 양배추       0      0     7580     38   -38\n"
          ]
        }
      ],
      "source": [
        "# 데이터 로드 및 확인\n",
        "\n",
        "import pandas as pd\n",
        "import numpy as np\n",
        "\n",
        "# 데이터 로드\n",
        "train = pd.read_csv(\"/content/train.csv\")\n",
        "test = pd.read_csv(\"/content/test.csv\")\n",
        "submission = pd.read_csv(\"/content/sample_submission.csv\")\n",
        "international = pd.read_csv(\"/content/international_trade.csv\")\n",
        "\n",
        "# 데이터 확인\n",
        "print(\"Train 데이터셋의 처음 5행:\")\n",
        "print(train.head())\n",
        "\n",
        "print(\"\\nTest 데이터셋의 처음 5행:\")\n",
        "print(test.head())\n",
        "\n",
        "print(\"\\nInternational 데이터셋의 처음 5행:\")\n",
        "print(international.head())"
      ]
    },
    {
      "cell_type": "markdown",
      "id": "3412db80",
      "metadata": {
        "id": "3412db80"
      },
      "source": [
        "### 결측치 확인"
      ]
    },
    {
      "cell_type": "code",
      "execution_count": 3,
      "id": "ac486299",
      "metadata": {
        "colab": {
          "base_uri": "https://localhost:8080/"
        },
        "id": "ac486299",
        "outputId": "45403cec-8e0c-4ea3-a85a-81b1806afb61"
      },
      "outputs": [
        {
          "output_type": "stream",
          "name": "stdout",
          "text": [
            "\n",
            "Train 데이터셋의 결측치:\n",
            "ID             0\n",
            "timestamp      0\n",
            "item           0\n",
            "corporation    0\n",
            "location       0\n",
            "supply(kg)     0\n",
            "price(원/kg)    0\n",
            "dtype: int64\n",
            "\n",
            "Test 데이터셋의 결측치:\n",
            "ID             0\n",
            "timestamp      0\n",
            "item           0\n",
            "corporation    0\n",
            "location       0\n",
            "dtype: int64\n",
            "\n",
            "International 데이터셋의 결측치:\n",
            "기간       0\n",
            "품목명      0\n",
            "수출 중량    0\n",
            "수출 금액    0\n",
            "수입 중량    0\n",
            "수입 금액    0\n",
            "무역수지     0\n",
            "dtype: int64\n"
          ]
        }
      ],
      "source": [
        "# 결측치 확인\n",
        "\n",
        "print(\"\\nTrain 데이터셋의 결측치:\")\n",
        "print(train.isnull().sum())\n",
        "\n",
        "print(\"\\nTest 데이터셋의 결측치:\")\n",
        "print(test.isnull().sum())\n",
        "\n",
        "print(\"\\nInternational 데이터셋의 결측치:\")\n",
        "print(international.isnull().sum())"
      ]
    },
    {
      "cell_type": "markdown",
      "source": [
        "모든 데이터셋의 결측치 확인 결과\n",
        "\n",
        "모든 데이터셋의 결측치를 확인한 결과, 모든 열에 결측치가 없음을 알 수 있음."
      ],
      "metadata": {
        "id": "OJzi8LeKHr5_"
      },
      "id": "OJzi8LeKHr5_"
    },
    {
      "cell_type": "markdown",
      "id": "7191d2a4",
      "metadata": {
        "id": "7191d2a4"
      },
      "source": [
        "### 데이터 통계량 확인"
      ]
    },
    {
      "cell_type": "code",
      "execution_count": 4,
      "id": "28ad4fa8",
      "metadata": {
        "colab": {
          "base_uri": "https://localhost:8080/"
        },
        "id": "28ad4fa8",
        "outputId": "650f861c-354e-492b-ba74-ac5239964bc1"
      },
      "outputs": [
        {
          "output_type": "stream",
          "name": "stdout",
          "text": [
            "\n",
            "Train 데이터셋의 통계량:\n",
            "         supply(kg)   price(원/kg)\n",
            "count  5.939700e+04  59397.000000\n",
            "mean   1.189453e+04   1131.680674\n",
            "std    5.226400e+04   2029.941445\n",
            "min    0.000000e+00      0.000000\n",
            "25%    0.000000e+00      0.000000\n",
            "50%    0.000000e+00      0.000000\n",
            "75%    3.800000e+03   1519.000000\n",
            "max    1.222800e+06  20909.000000\n"
          ]
        }
      ],
      "source": [
        "# 데이터 통계량 확인\n",
        "\n",
        "print(\"\\nTrain 데이터셋의 통계량:\")\n",
        "print(train.describe())"
      ]
    },
    {
      "cell_type": "markdown",
      "source": [
        "**Train 데이터셋의 통계량 확인 결과**\n",
        "\n",
        "<br/>\n",
        "\n",
        "*   Train 데이터셋의 공급량과 가격 데이터는 큰 변동성을 가지며, 많은 항목들이 공급량과 가격이 0인 경우가 많음\n",
        "\n",
        "*   75% 사분위수는 supply(kg)가 3,800 kg, price(원/kg)가 1,519 원/kg로, 상위 25%의 값들이 상대적으로 크다는 것을 알 수 있음\n",
        "\n",
        "*  supply(kg)와 price(원/kg) 값이 큰 변동성을 가질 수 있음을 시사함.\n",
        "\n"
      ],
      "metadata": {
        "id": "DDQt_TZmIKev"
      },
      "id": "DDQt_TZmIKev"
    },
    {
      "cell_type": "markdown",
      "id": "65060c79",
      "metadata": {
        "id": "65060c79"
      },
      "source": [
        "### 데이터 시각화"
      ]
    },
    {
      "cell_type": "code",
      "execution_count": 14,
      "id": "b440525b",
      "metadata": {
        "colab": {
          "base_uri": "https://localhost:8080/",
          "height": 513
        },
        "id": "b440525b",
        "outputId": "017682e0-5a2a-4a20-c824-94b40cf701f5"
      },
      "outputs": [
        {
          "output_type": "display_data",
          "data": {
            "text/plain": [
              "<Figure size 1000x600 with 1 Axes>"
            ],
            "image/png": "[encoded data removed]"
          },
          "metadata": {}
        }
      ],
      "source": [
        "# 데이터 시각화\n",
        "\n",
        "import matplotlib.pyplot as plt\n",
        "import seaborn as sns\n",
        "\n",
        "# 가격 분포 시각화\n",
        "plt.figure(figsize=(10, 6))\n",
        "sns.histplot(train['price(원/kg)'], bins=50, kde=True)\n",
        "plt.title('Price Distribution')\n",
        "plt.xlabel('Price (KRW/kg)')\n",
        "plt.ylabel('Frequency')\n",
        "plt.show()"
      ]
    },
    {
      "cell_type": "markdown",
      "source": [
        "### 분포 그래프 분석\n",
        "\n",
        "#### 그래프 설명\n",
        "위의 그래프는 `Train` 데이터셋의 `price(원/kg)` 열에 대한 가격 분포를 보여줌. 가격은 한국 원(KRW) 단위로 측정되었으며, x축은 가격, y축은 빈도수를 나타냄.\n",
        "\n",
        "#### 분석 결과\n",
        "\n",
        "1. **가격 분포의 집중**:\n",
        "    - 그래프에서 볼 수 있듯이, 가격이 0인 데이터 포인트가 매우 많이 분포하고 있음. 이는 공급량이 0이거나 가격 정보가 누락된 경우일 수 있음.\n",
        "    - 대다수의 데이터 포인트는 저가 구간에 몰려 있으며, 특히 0에 매우 높은 빈도수가 집중되어 있음.\n",
        "\n",
        "2. **긴 꼬리 현상**:\n",
        "    - 그래프는 오른쪽으로 긴 꼬리를 가지고 있으며, 이는 고가 데이터 포인트가 존재하지만 빈도가 매우 낮음을 나타냄.\n",
        "    - 대부분의 가격이 0에서 5,000 KRW/kg 사이에 분포되어 있으며, 그 이후의 가격은 상대적으로 적음.\n",
        "\n",
        "3. **가격 변동성**:\n",
        "    - 가격 분포의 표준편차가 크다는 것을 알 수 있음. 이는 가격 데이터의 변동성이 크다는 것을 의미함.\n",
        "    - 저가부터 고가까지 넓은 범위의 가격이 존재함.\n",
        "\n",
        "#### 결론\n",
        "\n",
        "- **데이터 전처리 필요성**:\n",
        "    - 가격이 0인 데이터 포인트에 대한 추가적인 분석이 필요함. 이 데이터들이 실제로 의미 있는 값인지, 아니면 오류나 누락된 데이터인지를 고려해야 함.\n",
        "    - 가격 변동성이 큰 데이터의 특성을 고려하여 모델링 시 적절한 스케일링이나 변환을 적용하는 것이 필요할 수 있음.\n",
        "\n",
        "- **모델링 전략**:\n",
        "    - 저가 구간에 데이터 포인트가 집중되어 있으므로, 모델링 시 이 부분에 대한 정확한 예측이 중요함.\n",
        "    - 고가 구간의 데이터 포인트는 적지만 중요한 정보를 포함할 수 있으므로, 이들을 적절히 다룰 필요가 있음.\n"
      ],
      "metadata": {
        "id": "PNi2MJehdDun"
      },
      "id": "PNi2MJehdDun"
    },
    {
      "cell_type": "markdown",
      "id": "4c243be1",
      "metadata": {
        "id": "4c243be1"
      },
      "source": [
        "### 데이터 전처리"
      ]
    },
    {
      "cell_type": "markdown",
      "source": [
        "### 데이터 전처리 과정 및 이유\n",
        "\n",
        "#### 1. 타임스탬프 형식 변환\n",
        "\n",
        "- **목적**:\n",
        "    - `timestamp` 열을 문자열 형식에서 날짜/시간 형식으로 변환함. 이를 통해 날짜 및 시간과 관련된 다양한 기능을 사용.\n",
        "\n",
        "- **세부 내용**:\n",
        "    - 날짜/시간 형식으로 변환함으로써 시계열 분석, 특정 기간 필터링, 시간 단위의 추가적 분석이 가능. 예를 들어, 월별, 분기별, 연도별 패턴 분석 등이 용이.\n",
        "\n",
        "#### 2. 주말 여부 추가\n",
        "\n",
        "- **목적**:\n",
        "    - `timestamp` 열을 기준으로 해당 날짜가 주말인지 여부를 나타내는 새로운 열 `is_weekend`를 추가.\n",
        "\n",
        "- **세부 내용**:\n",
        "    - `dt.dayofweek`는 날짜의 요일을 0(월요일)에서 6(일요일) 사이의 값으로 반환. 이 값이 5 이상이면 주말(토요일 또는 일요일)로 간주하여 1, 그렇지 않으면 0으로 설정.\n",
        "    - 주말 여부를 추가함으로써 주말과 평일의 가격 변동성을 비교할 수 있음. 주말에는 특정 품목의 수요가 증가하여 가격이 변동할 가능성이 있기 때문에, 이러한 요인을 모델에 반영하여 예측 정확도를 높일 수 있음.\n",
        "\n",
        "### 결론\n",
        "\n",
        "- **종합적 전처리 필요성**:\n",
        "    - 데이터 전처리를 통해 시계열 데이터의 특성과 주말 효과를 반영.\n",
        "    - 이러한 전처리 과정을 통해 보다 정확하고 의미 있는 예측 모델을 구축.\n",
        "\n",
        "\n",
        "\n",
        "\n"
      ],
      "metadata": {
        "id": "00BWY7iwJHXe"
      },
      "id": "00BWY7iwJHXe"
    },
    {
      "cell_type": "code",
      "execution_count": 17,
      "id": "6329f4d8",
      "metadata": {
        "id": "6329f4d8"
      },
      "outputs": [],
      "source": [
        "# 데이터 전처리\n",
        "import torch\n",
        "import torch.nn as nn\n",
        "from torch.utils.data import Dataset, DataLoader\n",
        "from sklearn.preprocessing import MinMaxScaler\n",
        "from sklearn.model_selection import train_test_split\n",
        "\n",
        "# 데이터 전처리\n",
        "train['timestamp'] = pd.to_datetime(train['timestamp'])\n",
        "train['is_weekend'] = (train['timestamp'].dt.dayofweek >= 5).astype(int)"
      ]
    },
    {
      "cell_type": "code",
      "source": [
        "print(train)"
      ],
      "metadata": {
        "colab": {
          "base_uri": "https://localhost:8080/"
        },
        "id": "bV415BJIKVFv",
        "outputId": "b39dc53c-5a25-44f8-bd87-7cb6257a1f23"
      },
      "id": "bV415BJIKVFv",
      "execution_count": 18,
      "outputs": [
        {
          "output_type": "stream",
          "name": "stdout",
          "text": [
            "                    ID  timestamp item corporation location  supply(kg)  \\\n",
            "0      TG_A_J_20190101 2019-01-01   TG           A        J         0.0   \n",
            "1      TG_A_J_20190102 2019-01-02   TG           A        J         0.0   \n",
            "2      TG_A_J_20190103 2019-01-03   TG           A        J     60601.0   \n",
            "3      TG_A_J_20190104 2019-01-04   TG           A        J     25000.0   \n",
            "4      TG_A_J_20190105 2019-01-05   TG           A        J     32352.0   \n",
            "...                ...        ...  ...         ...      ...         ...   \n",
            "59392  RD_F_J_20230227 2023-02-27   RD           F        J    452440.0   \n",
            "59393  RD_F_J_20230228 2023-02-28   RD           F        J    421980.0   \n",
            "59394  RD_F_J_20230301 2023-03-01   RD           F        J    382980.0   \n",
            "59395  RD_F_J_20230302 2023-03-02   RD           F        J    477220.0   \n",
            "59396  RD_F_J_20230303 2023-03-03   RD           F        J    427520.0   \n",
            "\n",
            "       price(원/kg)  is_weekend  \n",
            "0              0.0           0  \n",
            "1              0.0           0  \n",
            "2           1728.0           0  \n",
            "3           1408.0           0  \n",
            "4           1250.0           1  \n",
            "...            ...         ...  \n",
            "59392        468.0           0  \n",
            "59393        531.0           0  \n",
            "59394        574.0           0  \n",
            "59395        523.0           0  \n",
            "59396        529.0           0  \n",
            "\n",
            "[59397 rows x 8 columns]\n"
          ]
        }
      ]
    },
    {
      "cell_type": "markdown",
      "source": [
        "### Train 데이터셋 전후 비교\n",
        "\n",
        "#### 전처리 전 데이터셋의 처음 5행\n",
        "\n",
        "```python\n",
        "Train 데이터셋의 처음 5행:\n",
        "                ID   timestamp item corporation location  supply(kg)  \\\n",
        "0  TG_A_J_20190101  2019-01-01   TG           A        J         0.0   \n",
        "1  TG_A_J_20190102  2019-01-02   TG           A        J         0.0   \n",
        "2  TG_A_J_20190103  2019-01-03   TG           A        J     60601.0   \n",
        "3  TG_A_J_20190104  2019-01-04   TG           A        J     25000.0   \n",
        "4  TG_A_J_20190105  2019-01-05   TG           A        J     32352.0   \n",
        "\n",
        "   price(원/kg)  \n",
        "0          0.0  \n",
        "1          0.0  \n",
        "2       1728.0  \n",
        "3       1408.0  \n",
        "4       1250.0  \n",
        "\n",
        "print(train)\n",
        "                    ID  timestamp item corporation location  supply(kg)  \\\n",
        "0      TG_A_J_20190101 2019-01-01   TG           A        J         0.0   \n",
        "1      TG_A_J_20190102 2019-01-02   TG           A        J         0.0   \n",
        "2      TG_A_J_20190103 2019-01-03   TG           A        J     60601.0   \n",
        "3      TG_A_J_20190104 2019-01-04   TG           A        J     25000.0   \n",
        "4      TG_A_J_20190105 2019-01-05   TG           A        J     32352.0   \n",
        "\n",
        "       price(원/kg)  is_weekend  \n",
        "0              0.0           0  \n",
        "1              0.0           0  \n",
        "2           1728.0           0  \n",
        "3           1408.0           0  \n",
        "4           1250.0           1  \n"
      ],
      "metadata": {
        "id": "C5S1tGn7ea6x"
      },
      "id": "C5S1tGn7ea6x"
    },
    {
      "cell_type": "markdown",
      "id": "4a343d36",
      "metadata": {
        "id": "4a343d36"
      },
      "source": [
        "## 3. 기존 모델 학습 및 평가 (LSTM)"
      ]
    },
    {
      "cell_type": "markdown",
      "source": [
        "### 모델 선택 및 학습 진행\n",
        "\n",
        "#### 모델 선택\n",
        "\n",
        "- **선택한 모델**: LSTM (Long Short-Term Memory) 네트워크\n",
        "- **이유**:\n",
        "    - **시계열 데이터 처리에 강점**: LSTM은 시계열 데이터와 같이 순차적 특성을 가지는 데이터를 처리하는 데 뛰어난 성능을 보임. 과거의 데이터를 기억하고, 긴 시퀀스의 의존성을 학습할 수 있어 데이터의 시간적 패턴을 잘 반영=.\n",
        "    - **장기 의존성 문제 해결**: LSTM은 RNN의 단점인 장기 의존성 문제를 해결하는 데 효과적=. 게이트 구조를 통해 중요한 정보는 오래 기억하고 불필요한 정보는 잊는 메커니즘을 가지고 있음.\n",
        "\n",
        "#### 데이터 전처리\n",
        "\n",
        "- **카테고리형 변수 원-핫 인코딩**:\n",
        "    - `item`, `corporation`, `location` 열을 원-핫 인코딩하여 문자열 데이터를 수치 데이터로 변환. 이를 통해 모델이 데이터를 효과적으로 학습할 수 있도록 함.\n",
        "\n",
        "- **데이터 스케일링**:\n",
        "    - `MinMaxScaler`를 사용하여 데이터를 0과 1 사이의 값으로 스케일링했습니다. 이는 모델의 학습 속도를 높이고, 안정적인 학습을 위해 필요.\n",
        "\n",
        "- **학습 데이터와 검증 데이터 분리**:\n",
        "    - 데이터를 학습용과 검증용으로 분리하여 모델의 성능을 평가하고, 과적합을 방지할 수 있도록 함. `train_test_split`을 사용하여 80%는 학습용, 20%는 검증용으로 분리.\n",
        "\n",
        "#### LSTM 모델 정의\n",
        "\n",
        "- **모델 구조**:\n",
        "    - **입력 크기 (`input_size`)**: 63 (원-핫 인코딩된 피처 수 + 기타 수치형 피처)\n",
        "    - **은닉 상태 크기 (`hidden_size`)**: 50\n",
        "    - **레이어 수 (`num_layers`)**: 1\n",
        "    - **출력 크기 (`output_size`)**: 1 (예측할 가격 값)\n",
        "\n",
        "- **LSTM 레이어**:\n",
        "    - 입력 시퀀스를 처리하고, 각 타임스텝에서 은닉 상태를 업데이트합니다. `batch_first=True`로 설정하여 입력 텐서의 첫 번째 차원이 배치 크기임을 나타냄.\n",
        "\n",
        "- **완전 연결 (Fully Connected) 레이어**:\n",
        "    - LSTM의 마지막 은닉 상태를 입력으로 받아 최종 예측 값을 출력.\n",
        "\n",
        "#### 학습 진행 방식\n",
        "\n",
        "- **디바이스 설정**:\n",
        "    - CUDA를 사용할 수 있는 경우 GPU에서 학습을 진행하고, 그렇지 않으면 CPU에서 학습을 진행하도록 설정.\n",
        "\n",
        "- **손실 함수 및 옵티마이저**:\n",
        "    - **손실 함수**: 평균 제곱 오차 (MSE, Mean Squared Error)를 사용하여 예측 값과 실제 값 간의 차이를 계산.\n",
        "    - **옵티마이저**: Adam 옵티마이저를 사용하여 모델 파라미터를 업데이트합니다. 학습률 (`lr`)은 0.001로 설정.\n",
        "\n",
        "- **학습 루프**:\n",
        "    - **에포크 수 (`epochs`)**: 100\n",
        "        - 100번의 에포크 동안 모델을 학습. 이는 충분한 학습을 통해 모델이 데이터의 패턴을 잘 학습하도록 하기 위함. 에포크 수는 데이터셋의 크기와 복잡성, 학습률 등을 고려하여 설정.\n",
        "    - **배치 학습**:\n",
        "        - 각 에포크마다 학습 데이터를 배치 단위로 모델에 입력하여 예측 값을 계산하고, 손실을 구한 후 역전파를 통해 모델 파라미터를 업데이트. 배치 크기는 32로 설정.\n",
        "    - **평가**:\n",
        "        - 검증 데이터를 사용하여 모델의 성능을 평가. 이를 통해 학습 과정에서 과적합 여부를 모니터링함.\n",
        "\n",
        "#### 결론\n",
        "\n",
        "LSTM 모델을 사용하여 시계열 데이터를 처리하고, 가격을 예측하는 모델을 구축. 데이터 전처리 과정을 거쳐 원-핫 인코딩과 스케일링을 적용, 100번의 에포크 동안 모델을 학습.\n"
      ],
      "metadata": {
        "id": "kq13wsjfhWwT"
      },
      "id": "kq13wsjfhWwT"
    },
    {
      "cell_type": "markdown",
      "source": [
        "### 기존 모델 클래스 정의"
      ],
      "metadata": {
        "id": "sgvW1133g72C"
      },
      "id": "sgvW1133g72C"
    },
    {
      "cell_type": "code",
      "source": [
        "# 기존 모델 클래스 정의\n",
        "class ExistingModel(nn.Module):\n",
        "    def __init__(self, input_size, hidden_size, num_layers, output_size):\n",
        "        super(ExistingModel, self).__init__()\n",
        "        self.hidden_size = hidden_size\n",
        "        self.num_layers = num_layers\n",
        "        self.lstm = nn.LSTM(input_size, hidden_size, num_layers, batch_first=True)\n",
        "        self.fc = nn.Linear(hidden_size, output_size)\n",
        "\n",
        "    def forward(self, x):\n",
        "        h0 = torch.zeros(self.num_layers, x.size(0), self.hidden_size).to(device)\n",
        "        c0 = torch.zeros(self.num_layers, x.size(0), self.hidden_size).to(device)\n",
        "        out, _ = self.lstm(x, (h0, c0))\n",
        "        out = self.fc(out[:, -1, :])\n",
        "        return out"
      ],
      "metadata": {
        "id": "SJt-dmnCdxYS"
      },
      "id": "SJt-dmnCdxYS",
      "execution_count": 20,
      "outputs": []
    },
    {
      "cell_type": "markdown",
      "source": [
        "이 클래스는 LSTM(Long Short-Term Memory) 네트워크를 사용하여 시계열 데이터를 처리하는 모델을 정의.\n",
        "\n",
        "#### `__init__` 메서드:\n",
        "\n",
        "- `input_size`: 입력 데이터의 특성 수.\n",
        "- `hidden_size`: LSTM의 은닉 상태의 크기.\n",
        "- `num_layers`: LSTM 레이어의 수.\n",
        "- `output_size`: 출력의 크기.\n",
        "- `lstm`: LSTM 레이어를 정의합니다. `batch_first=True`로 설정하여 입력 텐서의 첫 번째 차원이 배치 크기임을 나타냄.\n",
        "- `fc`: LSTM의 출력에 연결되는 완전 연결(fully connected) 레이어.\n",
        "\n",
        "#### `forward` 메서드:\n",
        "\n",
        "- `h0`, `c0`: 초기 은닉 상태와 셀 상태를 0으로 초기화.\n",
        "- `out, _`: LSTM 레이어를 통과한 후의 출력과 새로운 은닉 상태 및 셀 상태를 반환.\n",
        "- `out = self.fc(out[:, -1, :])`: LSTM의 마지막 출력만을 사용하여 완전 연결 레이어에 전달.\n"
      ],
      "metadata": {
        "id": "HkvHgt9ShlOD"
      },
      "id": "HkvHgt9ShlOD"
    },
    {
      "cell_type": "markdown",
      "source": [
        "### 데이터 전처리"
      ],
      "metadata": {
        "id": "0-UfI-GLh-U8"
      },
      "id": "0-UfI-GLh-U8"
    },
    {
      "cell_type": "code",
      "source": [
        "from sklearn.preprocessing import MinMaxScaler, OneHotEncoder\n",
        "from sklearn.model_selection import train_test_split\n",
        "\n",
        "# 데이터 로드 (이미 로드되어 있다고 가정)\n",
        "# train = pd.read_csv('train.csv')\n",
        "\n",
        "# 카테고리형 변수 원-핫 인코딩\n",
        "categorical_features = ['item', 'corporation', 'location']\n",
        "encoder = OneHotEncoder(sparse=False)\n",
        "encoded_features = encoder.fit_transform(train[categorical_features])\n",
        "\n",
        "# 원래 데이터프레임에서 카테고리형 변수 제거하고, 인코딩된 피처 추가\n",
        "encoded_df = pd.DataFrame(encoded_features, columns=encoder.get_feature_names_out(categorical_features))\n",
        "train = train.drop(columns=categorical_features).reset_index(drop=True)\n",
        "train = pd.concat([train, encoded_df], axis=1)"
      ],
      "metadata": {
        "colab": {
          "base_uri": "https://localhost:8080/"
        },
        "id": "6aaE6o3GgHY_",
        "outputId": "bb1b62d7-2ff6-4369-b8f4-522e1d9f5dab"
      },
      "id": "6aaE6o3GgHY_",
      "execution_count": 26,
      "outputs": [
        {
          "output_type": "stream",
          "name": "stderr",
          "text": [
            "/usr/local/lib/python3.10/dist-packages/sklearn/preprocessing/_encoders.py:868: FutureWarning: `sparse` was renamed to `sparse_output` in version 1.2 and will be removed in 1.4. `sparse_output` is ignored unless you leave `sparse` to its default value.\n",
            "  warnings.warn(\n"
          ]
        }
      ]
    },
    {
      "cell_type": "code",
      "source": [
        "# 데이터셋 준비\n",
        "X = train.drop(columns=['ID', 'timestamp', 'price(원/kg)']).values\n",
        "y = train['price(원/kg)'].values\n",
        "\n",
        "# 데이터 스케일링\n",
        "scaler = MinMaxScaler()\n",
        "X = scaler.fit_transform(X)\n",
        "\n",
        "# 학습 데이터와 검증 데이터 분리\n",
        "X_train, X_val, y_train, y_val = train_test_split(X, y, test_size=0.2, random_state=42)"
      ],
      "metadata": {
        "id": "z0XN15vJdyWe"
      },
      "id": "z0XN15vJdyWe",
      "execution_count": 27,
      "outputs": []
    },
    {
      "cell_type": "markdown",
      "source": [
        "#### 원-핫 인코딩\n",
        "\n",
        "- `OneHotEncoder`를 사용하여 `item`, `corporation`, `location` 열을 원-핫 인코딩. 이는 문자열 데이터를 수치 데이터로 변환하는 과정.\n",
        "- 원-핫 인코딩된 피처들을 새로운 데이터프레임으로 변환하고, 원래 데이터프레임에서 해당 열들을 제거한 후 인코딩된 피처들을 추가.\n",
        "\n",
        "#### 데이터셋 준비\n",
        "\n",
        "- `ID`, `timestamp`, `price(원/kg)` 열을 제외한 나머지 열들을 입력 데이터로 사용.\n",
        "- `price(원/kg)` 열은 목표 값으로 사용.\n",
        "\n",
        "#### 데이터 스케일링\n",
        "\n",
        "- `MinMaxScaler`를 사용하여 입력 데이터를 0과 1 사이의 값으로 스케일링.\n",
        "\n",
        "#### 학습 데이터와 검증 데이터 분리\n",
        "\n",
        "- `train_test_split`을 사용하여 데이터를 학습용과 검증용으로 분리. `test_size=0.2`는 데이터의 20%를 검증용으로 사용함을 의미.\n"
      ],
      "metadata": {
        "id": "pjprsTakiOdg"
      },
      "id": "pjprsTakiOdg"
    },
    {
      "cell_type": "markdown",
      "source": [
        "### PyTorch 데이터셋 정의 및 데이터 로더 생성"
      ],
      "metadata": {
        "id": "QwalSCKsiS6Z"
      },
      "id": "QwalSCKsiS6Z"
    },
    {
      "cell_type": "code",
      "source": [
        "# PyTorch 데이터셋 정의\n",
        "class TimeSeriesDataset(Dataset):\n",
        "    def __init__(self, X, y):\n",
        "        self.X = torch.tensor(X, dtype=torch.float32)\n",
        "        self.y = torch.tensor(y, dtype=torch.float32)\n",
        "\n",
        "    def __len__(self):\n",
        "        return len(self.y)\n",
        "\n",
        "    def __getitem__(self, idx):\n",
        "        return self.X[idx], self.y[idx]"
      ],
      "metadata": {
        "id": "gj_WarB9gNED"
      },
      "id": "gj_WarB9gNED",
      "execution_count": 28,
      "outputs": []
    },
    {
      "cell_type": "code",
      "source": [
        "# 데이터 로더 생성\n",
        "train_dataset = TimeSeriesDataset(X_train, y_train)\n",
        "val_dataset = TimeSeriesDataset(X_val, y_val)\n",
        "train_loader = DataLoader(train_dataset, batch_size=32, shuffle=True)\n",
        "val_loader = DataLoader(val_dataset, batch_size=32, shuffle=False)"
      ],
      "metadata": {
        "id": "o1i3jT6dgN3H"
      },
      "id": "o1i3jT6dgN3H",
      "execution_count": 29,
      "outputs": []
    },
    {
      "cell_type": "markdown",
      "source": [
        "#### PyTorch 데이터셋 정의\n",
        "\n",
        "- `TimeSeriesDataset` 클래스는 PyTorch의 `Dataset` 클래스를 상속받아 정의.\n",
        "- `__init__` 메서드에서 입력 데이터 `X`와 출력 데이터 `y`를 텐서로 변환.\n",
        "- `__len__` 메서드는 데이터셋의 길이를 반환.\n",
        "- `__getitem__` 메서드는 특정 인덱스의 데이터를 반환.\n",
        "\n",
        "#### 데이터 로더 생성\n",
        "\n",
        "- `DataLoader`를 사용하여 `train_dataset`과 `val_dataset`을 배치 단위로 로드. `batch_size=32`로 설정하여 한 번에 32개의 샘플을 로드.\n",
        "- `shuffle=True`는 학습 데이터셋을 무작위로 섞음.\n"
      ],
      "metadata": {
        "id": "XTwKUbImijJv"
      },
      "id": "XTwKUbImijJv"
    },
    {
      "cell_type": "markdown",
      "source": [
        "### 모델 파라미터 설정 및 학습 루프"
      ],
      "metadata": {
        "id": "ZfJsd_mQiiKf"
      },
      "id": "ZfJsd_mQiiKf"
    },
    {
      "cell_type": "code",
      "source": [
        "# 모델 파라미터 설정\n",
        "input_size = X.shape[1]  # 특성 수\n",
        "hidden_size = 50\n",
        "num_layers = 1\n",
        "output_size = 1\n",
        "\n",
        "device = torch.device(\"cuda\" if torch.cuda.is_available() else \"cpu\")\n",
        "model = ExistingModel(input_size, hidden_size, num_layers, output_size).to(device)\n",
        "criterion = nn.MSELoss()\n",
        "optimizer = torch.optim.Adam(model.parameters(), lr=0.001)"
      ],
      "metadata": {
        "id": "VkP6EYCSgYso"
      },
      "id": "VkP6EYCSgYso",
      "execution_count": 30,
      "outputs": []
    },
    {
      "cell_type": "code",
      "source": [
        "# 학습 루프\n",
        "epochs = 100\n",
        "for epoch in range(epochs):\n",
        "    model.train()\n",
        "    for inputs, targets in train_loader:\n",
        "        inputs, targets = inputs.to(device), targets.to(device)\n",
        "        outputs = model(inputs.unsqueeze(1))\n",
        "        loss = criterion(outputs, targets.unsqueeze(1))\n",
        "        optimizer.zero_grad()\n",
        "        loss.backward()\n",
        "        optimizer.step()\n",
        "\n",
        "print(\"기존 모델 학습 완료\")"
      ],
      "metadata": {
        "colab": {
          "base_uri": "https://localhost:8080/"
        },
        "id": "utvOEsRud1eQ",
        "outputId": "cf25a415-6474-4e2b-bf20-d03aaf9dda40"
      },
      "id": "utvOEsRud1eQ",
      "execution_count": 31,
      "outputs": [
        {
          "output_type": "stream",
          "name": "stdout",
          "text": [
            "기존 모델 학습 완료\n"
          ]
        }
      ]
    },
    {
      "cell_type": "markdown",
      "source": [
        "#### 모델 파라미터 설정:\n",
        "\n",
        "- `input_size`: 입력 데이터의 특성 수. `X.shape[1]`을 사용하여 입력 데이터의 열 수를 설정.\n",
        "- `hidden_size`: LSTM의 은닉 상태의 크기.\n",
        "- `num_layers`: LSTM 레이어의 수.\n",
        "- `output_size`: 출력의 크기.\n",
        "- `device`: CUDA를 사용할 수 있으면 GPU에, 그렇지 않으면 CPU에 모델을 할당.\n",
        "- `model`: 정의된 `ExistingModel` 클래스를 사용하여 모델을 초기화하고, 지정된 디바이스에 할당.\n",
        "- `criterion`: 평균 제곱 오차 손실 함수(`MSELoss`)를 사용.\n",
        "- `optimizer`: Adam 옵티마이저를 사용하여 모델 파라미터를 최적화.\n",
        "\n",
        "#### 학습 루프:\n",
        "\n",
        "- `epochs = 100`은 100번의 에포크 동안 모델을 학습.\n",
        "- `model.train()`은 모델을 학습 모드로 설정.\n",
        "- `train_loader`에서 배치 단위로 데이터를 로드하여 입력(`inputs`)과 목표 값(`targets`)을 지정된 디바이스로 전송.\n",
        "- 모델을 통해 예측 값을 계산하고 손실을 구한 후 역전파를 통해 손실의 기울기를 계산하고 옵티마이저를 사용하여 모델 파라미터를 업데이트.\n",
        "- 학습이 완료되면 \"기존 모델 학습 완료\" 메시지를 출력.\n"
      ],
      "metadata": {
        "id": "JCRTOe3ojNWF"
      },
      "id": "JCRTOe3ojNWF"
    },
    {
      "cell_type": "markdown",
      "source": [
        "### 기존 모델 평가 코드"
      ],
      "metadata": {
        "id": "OpOGPZkajYRc"
      },
      "id": "OpOGPZkajYRc"
    },
    {
      "cell_type": "code",
      "execution_count": 32,
      "id": "6ad16f5c",
      "metadata": {
        "colab": {
          "base_uri": "https://localhost:8080/"
        },
        "id": "6ad16f5c",
        "outputId": "2bed12ad-35bb-4946-9310-243a00c0fac0"
      },
      "outputs": [
        {
          "output_type": "stream",
          "name": "stdout",
          "text": [
            "기존 모델 MSE: 2177767.0118\n"
          ]
        }
      ],
      "source": [
        "# 기존 모델 평가\n",
        "\n",
        "def evaluate_model(model, data_loader):\n",
        "    model.eval()\n",
        "    total_loss = 0\n",
        "    with torch.no_grad():\n",
        "        for inputs, targets in data_loader:\n",
        "            inputs, targets = inputs.to(device), targets.to(device)\n",
        "            outputs = model(inputs.unsqueeze(1))\n",
        "            loss = criterion(outputs, targets.unsqueeze(1))\n",
        "            total_loss += loss.item()\n",
        "    return total_loss / len(data_loader)\n",
        "\n",
        "# 기존 모델 평가\n",
        "existing_model_loss = evaluate_model(model, val_loader)\n",
        "print(f\"기존 모델 MSE: {existing_model_loss:.4f}\")"
      ]
    },
    {
      "cell_type": "markdown",
      "source": [
        "#### `evaluate_model` 함수\n",
        "\n",
        "**목적**: 주어진 모델과 데이터 로더를 사용하여 모델의 평균 손실(MSE, Mean Squared Error)을 계산합니다.\n",
        "\n",
        "**매개변수**:\n",
        "- `model`: 평가할 PyTorch 모델.\n",
        "- `data_loader`: 평가에 사용할 데이터 로더.\n",
        "\n",
        "**과정**:\n",
        "\n",
        "1. `model.eval()`:\n",
        "   - 모델을 평가 모드로 전환. 이는 드롭아웃(dropout)과 배치 정규화(batch normalization)와 같은 레이어의 동작을 평가 모드로 설정.\n",
        "2. `torch.no_grad()`:\n",
        "   - 평가 중에는 그래디언트 계산을 비활성화하여 메모리 사용량을 줄이고 계산 속도를 높임.\n",
        "3. 데이터 로더를 통해 데이터를 배치 단위로 순회.\n",
        "   - `inputs`, `targets`를 지정된 디바이스(`device`)로 전송.\n",
        "   - `outputs = model(inputs.unsqueeze(1))`:\n",
        "     - 모델에 입력 데이터를 전달하여 예측 값을 계산. `unsqueeze(1)`은 입력 데이터를 적절한 형식으로 변환.\n",
        "   - `loss = criterion(outputs, targets.unsqueeze(1))`:\n",
        "     - 예측 값과 실제 값 사이의 손실을 계산.\n",
        "   - `total_loss += loss.item()`:\n",
        "     - 배치 손실을 `total_loss`에 누적.\n",
        "4. `return total_loss / len(data_loader)`:\n",
        "   - 총 손실을 배치 수로 나누어 평균 손실을 반환.\n",
        "\n",
        "#### MSE (Mean Squared Error)\n",
        "\n",
        "평균 제곱 오차는 예측 값과 실제 값 사이의 평균 제곱 차이를 나타내는 지표임. 값이 클수록 모델의 예측이 실제 값과 많이 다르다는 것을 의미.\n"
      ],
      "metadata": {
        "id": "DkefvNCjjZ4Q"
      },
      "id": "DkefvNCjjZ4Q"
    },
    {
      "cell_type": "markdown",
      "source": [
        "#### 결과 해석\n",
        "\n",
        "- 평균 제곱 오차가 `2177767.0118`로 매우 큰 값을 보임. 이는 모델의 예측이 실제 값과 큰 차이를 보이고 있음을 나타냄.\n",
        "- 이 큰 값은 모델이 데이터의 패턴을 잘 학습하지 못했거나, 데이터의 스케일링 또는 전처리가 적절하지 않음을 의미할 수 있음.\n",
        "- 모델의 성능을 향상시키기 위해서는 데이터 전처리 과정, 모델의 하이퍼파라미터 튜닝, 또는 더 복잡한 모델 구조를 고려해봐야 함.\n"
      ],
      "metadata": {
        "id": "yXsT6zSSjk24"
      },
      "id": "yXsT6zSSjk24"
    },
    {
      "cell_type": "markdown",
      "source": [
        "#### 개선 방향\n",
        "\n",
        "1. **모델 구조 변경**:\n",
        "   - 더 깊은 LSTM 레이어를 사용하거나, 다른 유형의 시계열 모델(RNN, GRU 등)을 시도하려 함.\n",
        "\n",
        "2. **하이퍼파라미터 튜닝**:\n",
        "   - 학습률, 배치 크기, 에포크 수, 은닉층 크기 등 하이퍼파라미터를 조정하여 모델 성능을 최적화하려 함.\n"
      ],
      "metadata": {
        "id": "3yir7zEgjnoC"
      },
      "id": "3yir7zEgjnoC"
    },
    {
      "cell_type": "markdown",
      "id": "2f9a73d4",
      "metadata": {
        "id": "2f9a73d4"
      },
      "source": [
        "## 4. 개선된 모델 구현 및 평가 (LSTM)"
      ]
    },
    {
      "cell_type": "markdown",
      "source": [
        "### 모델 구조 변경"
      ],
      "metadata": {
        "id": "YACHymNvlkJf"
      },
      "id": "YACHymNvlkJf"
    },
    {
      "cell_type": "code",
      "execution_count": 36,
      "id": "992f6202",
      "metadata": {
        "id": "992f6202"
      },
      "outputs": [],
      "source": [
        "class ImprovedModel(nn.Module):\n",
        "    def __init__(self, input_size, hidden_size, num_layers, output_size):\n",
        "        super(ImprovedModel, self).__init__()\n",
        "        self.hidden_size = hidden_size\n",
        "        self.num_layers = num_layers\n",
        "        self.lstm = nn.LSTM(input_size, hidden_size, num_layers, batch_first=True)\n",
        "        self.fc = nn.Linear(hidden_size, output_size)\n",
        "\n",
        "    def forward(self, x):\n",
        "        h0 = torch.zeros(self.num_layers, x.size(0), self.hidden_size).to(device)\n",
        "        c0 = torch.zeros(self.num_layers, x.size(0), self.hidden_size).to(device)\n",
        "        out, _ = self.lstm(x, (h0, c0))\n",
        "        out = self.fc(out[:, -1, :])\n",
        "        return out"
      ]
    },
    {
      "cell_type": "markdown",
      "source": [
        "- **기존 모델**:\n",
        "    - LSTM 레이어가 1개\n",
        "    - 은닉 상태 크기 50\n",
        "\n",
        "- **개선된 모델**:\n",
        "    - 더 깊은 LSTM 레이어를 사용하여 모델의 복잡성을 증가\n",
        "    - LSTM 레이어 수를 2개로 증가\n",
        "    - 은닉 상태 크기를 100으로 증가하여 더 많은 정보를 캡처할 수 있도록 함"
      ],
      "metadata": {
        "id": "Sv6iZjtvmFZi"
      },
      "id": "Sv6iZjtvmFZi"
    },
    {
      "cell_type": "markdown",
      "source": [
        "### 하이퍼파라미터 튜닝"
      ],
      "metadata": {
        "id": "GVqUTNvzmAY8"
      },
      "id": "GVqUTNvzmAY8"
    },
    {
      "cell_type": "code",
      "source": [
        "input_size = X.shape[1]  # 특성 수\n",
        "hidden_size = 100  # 은닉 상태 크기 증가\n",
        "num_layers = 2  # LSTM 레이어 수 증가\n",
        "output_size = 1\n",
        "\n",
        "device = torch.device(\"cuda\" if torch.cuda.is_available() else \"cpu\")\n",
        "model = ImprovedModel(input_size, hidden_size, num_layers, output_size).to(device)\n",
        "criterion = nn.MSELoss()\n",
        "optimizer = torch.optim.Adam(model.parameters(), lr=0.001)\n",
        "\n",
        "# 학습 루프\n",
        "epochs = 200  # 에포크 수 증가\n",
        "for epoch in range(epochs):\n",
        "    model.train()\n",
        "    for inputs, targets in train_loader:\n",
        "        inputs, targets = inputs.to(device), targets.to(device)\n",
        "        outputs = model(inputs.unsqueeze(1))\n",
        "        loss = criterion(outputs, targets.unsqueeze(1))\n",
        "        optimizer.zero_grad()\n",
        "        loss.backward()\n",
        "        optimizer.step()\n",
        "\n",
        "print(\"개선된 모델 학습 완료\")"
      ],
      "metadata": {
        "colab": {
          "base_uri": "https://localhost:8080/"
        },
        "id": "dMD82GK-ghC2",
        "outputId": "8888d9f8-3ff6-442d-97c2-03a659f09e7a"
      },
      "id": "dMD82GK-ghC2",
      "execution_count": 37,
      "outputs": [
        {
          "output_type": "stream",
          "name": "stdout",
          "text": [
            "개선된 모델 학습 완료\n"
          ]
        }
      ]
    },
    {
      "cell_type": "code",
      "source": [
        "# 개선된 모델 평가\n",
        "improved_model_loss = evaluate_model(model, val_loader)\n",
        "print(f\"개선된 모델 MSE: {improved_model_loss:.4f}\")"
      ],
      "metadata": {
        "colab": {
          "base_uri": "https://localhost:8080/"
        },
        "id": "946EiWa2lvUu",
        "outputId": "11847360-a611-4848-f911-cd6d4c676259"
      },
      "id": "946EiWa2lvUu",
      "execution_count": 39,
      "outputs": [
        {
          "output_type": "stream",
          "name": "stdout",
          "text": [
            "개선된 모델 MSE: 565082.1202\n"
          ]
        }
      ]
    },
    {
      "cell_type": "markdown",
      "source": [
        "- **기존 모델**:\n",
        "    - 은닉 상태 크기: 50\n",
        "    - LSTM 레이어 수: 1\n",
        "    - 학습률: 0.001\n",
        "    - 에포크 수: 100\n",
        "\n",
        "- **개선된 모델**:\n",
        "    - 은닉 상태 크기: 100 (은닉 상태 크기를 증가시켜 모델의 용량을 확장)\n",
        "    - LSTM 레이어 수: 2 (더 많은 레이어를 추가하여 모델의 깊이를 증가)\n",
        "    - 학습률: 0.001 (기존과 동일)\n",
        "    - 에포크 수: 200 (더 많은 에포크 수를 사용하여 모델을 더 오래 학습)"
      ],
      "metadata": {
        "id": "sbj86wC-mOjL"
      },
      "id": "sbj86wC-mOjL"
    },
    {
      "cell_type": "markdown",
      "id": "bcac5b1b",
      "metadata": {
        "id": "bcac5b1b"
      },
      "source": [
        "## 5. 성능 비교 및 결론\n",
        "\n",
        "\n"
      ]
    },
    {
      "cell_type": "markdown",
      "source": [
        "#### 기존 모델\n",
        "\n",
        "- **은닉 상태 크기**: 50\n",
        "- **LSTM 레이어 수**: 1\n",
        "- **학습률**: 0.001\n",
        "- **에포크 수**: 100\n",
        "- **평균 제곱 오차 (MSE)**: 2177767.0118\n",
        "\n",
        "#### 개선된 모델\n",
        "\n",
        "- **은닉 상태 크기**: 100 (은닉 상태 크기를 증가시켜 모델의 용량을 확장)\n",
        "- **LSTM 레이어 수**: 2 (더 많은 레이어를 추가하여 모델의 깊이를 증가)\n",
        "- **학습률**: 0.001 (기존과 동일)\n",
        "- **에포크 수**: 200 (더 많은 에포크 수를 사용하여 모델을 더 오래 학습)\n",
        "- **평균 제곱 오차 (MSE)**: 565082.1202\n",
        "\n",
        "### 결론\n",
        "\n",
        "- **모델 구조 변경**: 더 깊은 LSTM 레이어와 더 큰 은닉 상태 크기를 사용한 개선된 모델은 기존 모델에 비해 더 나은 성능을 보였습니다.\n",
        "- **하이퍼파라미터 튜닝**: 에포크 수를 늘려 더 오래 학습시킨 결과, 개선된 모델의 예측 성능이 크게 향상됨\n",
        "- **평가 결과**: 개선된 모델의 MSE가 기존 모델의 MSE보다 크게 낮아, 데이터의 패턴을 더 잘 학습했음을 알 수 있음\n",
        "\n",
        "이와 같은 개선을 통해 LSTM 모델의 예측 성능을 효과적으로 향상시킬 수 있음을 확인할 수 있었음"
      ],
      "metadata": {
        "id": "eTf_4F2RmoO6"
      },
      "id": "eTf_4F2RmoO6"
    },
    {
      "cell_type": "markdown",
      "source": [
        "**# 보고서**"
      ],
      "metadata": {
        "id": "2ztlUv6C1ezF"
      },
      "id": "2ztlUv6C1ezF"
    },
    {
      "cell_type": "markdown",
      "source": [
        "# 농산물 가격 예측 모델 개선\n",
        "\n",
        "## 배경\n",
        "캐글의 \"제주 특산물 가격 예측 AI 경진대회\"에서 제공된 데이터를 바탕으로 농산물 가격 예측 모델을 개선한 프로젝트입니다.\n",
        "\n",
        "## 목표\n",
        "기존 모델의 성능과 한계를 살펴보고, 개선된 모델의 구현 방법과 성능 향상에 대해 비교하는 것을 목표로 합니다.\n",
        "\n",
        "## 내용\n",
        "\n",
        "### 데이터 설명\n",
        "- **사용된 데이터셋**: `train.csv`, `test.csv`, `sample_submission.csv`, `international_trade.csv`\n",
        "- **train.csv 데이터셋의 컬럼 구성**:\n",
        "  - `ID`: 데이터 식별자\n",
        "  - `timestamp`: 날짜\n",
        "  - `item`: 품목\n",
        "  - `corporation`: 법인명\n",
        "  - `location`: 위치\n",
        "  - `supply(kg)`: 공급량 (kg)\n",
        "  - `price(원/kg)`: 가격 (원/kg)\n",
        "\n",
        "### 데이터 로드 및 탐색적 데이터 분석(EDA)\n",
        "- 데이터 로드 후 첫 5행 확인\n",
        "- 결측치 확인 결과 모든 열에 결측치 없음\n",
        "- 가격 분포 그래프를 통해 대다수의 데이터 포인트가 저가 구간에 몰려 있으며, 특히 0에 매우 높은 빈도수가 집중되어 있음을 확인\n",
        "\n",
        "### 데이터 전처리\n",
        "- `timestamp` 열을 문자열 형식에서 날짜/시간 형식으로 변환\n",
        "- `is_weekend` 열 추가\n",
        "- 원-핫 인코딩을 통해 `item`, `corporation`, `location` 열을 수치형 데이터로 변환\n",
        "- `MinMaxScaler`를 사용하여 데이터 스케일링\n",
        "- 학습 데이터와 검증 데이터 분리\n",
        "\n",
        "### 기존 모델(LSTM) 학습 및 평가\n",
        "- **모델 구조**: 입력 크기, 은닉 상태 크기 50, 레이어 수 1, 출력 크기 1\n",
        "- **성능 평가 결과**: 평균 제곱 오차(MSE)가 매우 큰 값을 보임 (2177767.0118)\n",
        "\n",
        "### 개선된 모델 구현\n",
        "- 더 깊은 LSTM 레이어 사용, 은닉 상태 크기 증가\n",
        "- 에포크 수를 늘려 더 오래 학습\n",
        "\n",
        "### 개선된 모델 성능 평가\n",
        "- 평균 제곱 오차(MSE)가 크게 낮아짐 (565082.1202)\n",
        "\n",
        "### 학습 및 평가 과정\n",
        "- 디바이스 설정을 통해 GPU에서 학습 진행\n",
        "- 손실 함수로 평균 제곱 오차(MSE) 사용\n",
        "- 옵티마이저로 Adam 옵티마이저 사용\n",
        "- 학습률은 0.001로 설정\n",
        "- 학습 루프에서 각 에포크마다 학습 데이터를 배치 단위로 모델에 입력하여 예측 값을 계산하고, 손실을 구한 후 모델 파라미터를 업데이트\n",
        "\n",
        "### 결론\n",
        "- 모델의 구조 변경, 하이퍼파라미터 튜닝 등을 통해 농산물 가격 예측 모델의 성능을 효과적으로 향상시킬 수 있음\n",
        "- 예측 모델의 정확도가 크게 향상되었으며, 앞으로도 더 나은 성능을 위해 지속적인 개선이 필요\n",
        "- 다양한 시도를 통해 모델 성능을 더욱 향상시킬 수 있음\n",
        "- 모델의 실시간 예측 성능을 평가하기 위해 실제 환경에서 테스트를 진행하는 것도 고려해야 함\n"
      ],
      "metadata": {
        "id": "j-vEDSRH1dQd"
      },
      "id": "j-vEDSRH1dQd"
    }
  ],
  "metadata": {
    "colab": {
      "provenance": [],
      "gpuType": "T4"
    },
    "accelerator": "GPU",
    "language_info": {
      "name": "python"
    },
    "kernelspec": {
      "name": "python3",
      "display_name": "Python 3"
    }
  },
  "nbformat": 4,
  "nbformat_minor": 5
}